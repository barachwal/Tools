{
  "nbformat": 4,
  "nbformat_minor": 0,
  "metadata": {
    "colab": {
      "name": "conda.ipynb",
      "provenance": [],
      "collapsed_sections": [],
      "authorship_tag": "ABX9TyOtfNRmnzQzL/POMiEzBkjF"
    },
    "kernelspec": {
      "name": "python3",
      "display_name": "Python 3"
    },
    "language_info": {
      "name": "python"
    }
  },
  "cells": [
    {
      "cell_type": "markdown",
      "source": [
        "Conda is the recommended environment and package management solution for a number of popular data science tools including Pandas, Scikit-Learn, PyTorch, NVIDIA Rapids and many others. This is also the way we can install [PyROOT](https://root.cern/manual/python/)\n",
        "\n",
        "At first, lets install Miniconda!"
      ],
      "metadata": {
        "id": "olf7DRdSQREL"
      }
    },
    {
      "cell_type": "code",
      "execution_count": null,
      "metadata": {
        "collapsed": true,
        "id": "Rt7lM5vULkMV"
      },
      "outputs": [],
      "source": [
        "! wget https://repo.anaconda.com/miniconda/Miniconda3-py37_4.8.2-Linux-x86_64.sh\n",
        "! chmod +x Miniconda3-py37_4.8.2-Linux-x86_64.sh\n",
        "! bash ./Miniconda3-py37_4.8.2-Linux-x86_64.sh -b -f -p /usr/local"
      ]
    },
    {
      "cell_type": "markdown",
      "source": [
        "Wee need to add the directory where Conda will install packages to the list of directories that Python will search when looking for modules to import.\n",
        "**Note**: The preinstalled packages included with Google Colab are installed into the ``/usr/local/lib/python3.7/dist-packages`` directory. You can get an idea of what packages are available by simply listing the contents of this directory."
      ],
      "metadata": {
        "id": "0BiS03skQ_Ym"
      }
    },
    {
      "cell_type": "code",
      "source": [
        "import sys\n",
        "sys.path.append('/usr/local/lib/python3.7/site-packages/')"
      ],
      "metadata": {
        "id": "ZUqTHZCuQv3T"
      },
      "execution_count": null,
      "outputs": []
    },
    {
      "cell_type": "code",
      "source": [
        "!conda install -c conda-forge root --yes"
      ],
      "metadata": {
        "id": "Wlpp079_QE2D"
      },
      "execution_count": null,
      "outputs": []
    }
  ]
}